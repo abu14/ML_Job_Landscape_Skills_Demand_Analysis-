{
 "cells": [
  {
   "cell_type": "markdown",
   "metadata": {},
   "source": [
    "### How well do jobs and skills pay for Machine Learning Engineers?\n",
    "\n",
    "#### Methology\n",
    "1. Evaluate median salary for top 6 data jobs\n",
    "2. Find median salary per skill for Data Analysts\n",
    "3. Visualize for highest paying skills and most demanded skills"
   ]
  },
  {
   "cell_type": "markdown",
   "metadata": {},
   "source": [
    "## Import Libraries"
   ]
  },
  {
   "cell_type": "code",
   "execution_count": 1,
   "metadata": {},
   "outputs": [],
   "source": [
    "# let's inistall the libraries first \n",
    "!pip install -q datasets\n",
    "!pip install -q adjustText\n",
    "!pip install -q requests\n"
   ]
  },
  {
   "cell_type": "code",
   "execution_count": 2,
   "metadata": {},
   "outputs": [],
   "source": [
    "# WE can now import all of the necessary libraries\n",
    "import ast\n",
    "import pandas as pd\n",
    "import seaborn as sns\n",
    "from datasets import load_dataset\n",
    "import matplotlib.pyplot as plt \n",
    "import requests # to get the continents for the jobs"
   ]
  },
  {
   "cell_type": "markdown",
   "metadata": {},
   "source": [
    "## Load Dataset"
   ]
  },
  {
   "cell_type": "code",
   "execution_count": 3,
   "metadata": {},
   "outputs": [],
   "source": [
    "# Loading Data\n",
    "dataset = load_dataset('lukebarousse/data_jobs')\n",
    "df = dataset['train'].to_pandas()"
   ]
  },
  {
   "cell_type": "markdown",
   "metadata": {},
   "source": [
    "## Data Cleanup\n"
   ]
  },
  {
   "cell_type": "code",
   "execution_count": 4,
   "metadata": {},
   "outputs": [],
   "source": [
    "# Data Cleanup\n",
    "df['job_posted_date'] = pd.to_datetime(df['job_posted_date'])\n",
    "df['job_skills'] = df['job_skills'].apply(lambda x: ast.literal_eval(x) if pd.notna(x) else x)"
   ]
  },
  {
   "cell_type": "code",
   "execution_count": 5,
   "metadata": {},
   "outputs": [
    {
     "data": {
      "text/html": [
       "<div>\n",
       "<style scoped>\n",
       "    .dataframe tbody tr th:only-of-type {\n",
       "        vertical-align: middle;\n",
       "    }\n",
       "\n",
       "    .dataframe tbody tr th {\n",
       "        vertical-align: top;\n",
       "    }\n",
       "\n",
       "    .dataframe thead th {\n",
       "        text-align: right;\n",
       "    }\n",
       "</style>\n",
       "<table border=\"1\" class=\"dataframe\">\n",
       "  <thead>\n",
       "    <tr style=\"text-align: right;\">\n",
       "      <th></th>\n",
       "      <th>Country</th>\n",
       "    </tr>\n",
       "  </thead>\n",
       "  <tbody>\n",
       "    <tr>\n",
       "      <th>0</th>\n",
       "      <td>United States</td>\n",
       "    </tr>\n",
       "    <tr>\n",
       "      <th>1</th>\n",
       "      <td>India</td>\n",
       "    </tr>\n",
       "    <tr>\n",
       "      <th>2</th>\n",
       "      <td>United Kingdom</td>\n",
       "    </tr>\n",
       "    <tr>\n",
       "      <th>3</th>\n",
       "      <td>France</td>\n",
       "    </tr>\n",
       "    <tr>\n",
       "      <th>4</th>\n",
       "      <td>Germany</td>\n",
       "    </tr>\n",
       "  </tbody>\n",
       "</table>\n",
       "</div>"
      ],
      "text/plain": [
       "          Country\n",
       "0   United States\n",
       "1           India\n",
       "2  United Kingdom\n",
       "3          France\n",
       "4         Germany"
      ]
     },
     "execution_count": 5,
     "metadata": {},
     "output_type": "execute_result"
    }
   ],
   "source": [
    "# country for analysis and per continent analysis as well\n",
    "df_country = df['job_country'].value_counts().to_frame(name='count')\n",
    "df_country.reset_index(inplace=True)\n",
    "df_country.rename(columns={'index':'Country'},inplace=True)\n",
    "df_country.drop(columns='count',inplace=True)\n",
    "df_country.head()"
   ]
  },
  {
   "cell_type": "code",
   "execution_count": 6,
   "metadata": {},
   "outputs": [],
   "source": [
    "def get_continent(country):\n",
    "    try:\n",
    "        # Use the RestCountries API to fetch country information\n",
    "        response = requests.get(f'https://restcountries.com/v3.1/name/{country}')\n",
    "        data = response.json()\n",
    "        return data[0]['continents'][0]  \n",
    "    except Exception as e:\n",
    "        return 'Unknown'\n",
    "\n",
    "\n",
    "# Apply the function to the job_country column\n",
    "df_country['continent'] = df_country['Country'].apply(get_continent)"
   ]
  },
  {
   "cell_type": "code",
   "execution_count": 7,
   "metadata": {},
   "outputs": [],
   "source": [
    "\n",
    "fix_continents = {\n",
    "    \"United States\": \"North America\",\n",
    "    \"Australia\": \"Oceania\",\n",
    "    \"New Zealand\": \"Oceania\",\n",
    "    \"Guam\": \"Oceania\",\n",
    "    \"U.S. Virgin Islands\": \"North America\",\n",
    "    \"Macedonia (FYROM)\": \"Europe\",\n",
    "    \"Congo, Democratic Republic of the\": \"Africa\",\n",
    "    \"Fiji\": \"Oceania\",\n",
    "    \"Papua New Guinea\": \"Oceania\",\n",
    "    \"Northern Mariana Islands\": \"Oceania\"\n",
    "}\n",
    "\n",
    "# Update the continent column based on the mapping\n",
    "df_country['continent'] = df_country['Country'].map(fix_continents).fillna(df_country['continent'])"
   ]
  },
  {
   "cell_type": "code",
   "execution_count": 8,
   "metadata": {},
   "outputs": [
    {
     "data": {
      "text/html": [
       "<div>\n",
       "<style scoped>\n",
       "    .dataframe tbody tr th:only-of-type {\n",
       "        vertical-align: middle;\n",
       "    }\n",
       "\n",
       "    .dataframe tbody tr th {\n",
       "        vertical-align: top;\n",
       "    }\n",
       "\n",
       "    .dataframe thead th {\n",
       "        text-align: right;\n",
       "    }\n",
       "</style>\n",
       "<table border=\"1\" class=\"dataframe\">\n",
       "  <thead>\n",
       "    <tr style=\"text-align: right;\">\n",
       "      <th></th>\n",
       "      <th>job_title_short</th>\n",
       "      <th>job_title</th>\n",
       "      <th>job_location</th>\n",
       "      <th>job_via</th>\n",
       "      <th>job_schedule_type</th>\n",
       "      <th>job_work_from_home</th>\n",
       "      <th>search_location</th>\n",
       "      <th>job_posted_date</th>\n",
       "      <th>job_no_degree_mention</th>\n",
       "      <th>job_health_insurance</th>\n",
       "      <th>job_country</th>\n",
       "      <th>salary_rate</th>\n",
       "      <th>salary_year_avg</th>\n",
       "      <th>salary_hour_avg</th>\n",
       "      <th>company_name</th>\n",
       "      <th>job_skills</th>\n",
       "      <th>job_type_skills</th>\n",
       "      <th>Country</th>\n",
       "      <th>continent</th>\n",
       "    </tr>\n",
       "  </thead>\n",
       "  <tbody>\n",
       "    <tr>\n",
       "      <th>0</th>\n",
       "      <td>Senior Data Engineer</td>\n",
       "      <td>Senior Clinical Data Engineer / Principal Clin...</td>\n",
       "      <td>Watertown, CT</td>\n",
       "      <td>via Work Nearby</td>\n",
       "      <td>Full-time</td>\n",
       "      <td>False</td>\n",
       "      <td>Texas, United States</td>\n",
       "      <td>2023-06-16 13:44:15</td>\n",
       "      <td>False</td>\n",
       "      <td>False</td>\n",
       "      <td>United States</td>\n",
       "      <td>None</td>\n",
       "      <td>NaN</td>\n",
       "      <td>NaN</td>\n",
       "      <td>Boehringer Ingelheim</td>\n",
       "      <td>None</td>\n",
       "      <td>None</td>\n",
       "      <td>United States</td>\n",
       "      <td>North America</td>\n",
       "    </tr>\n",
       "    <tr>\n",
       "      <th>1</th>\n",
       "      <td>Data Analyst</td>\n",
       "      <td>Data Analyst</td>\n",
       "      <td>Guadalajara, Jalisco, Mexico</td>\n",
       "      <td>via BeBee México</td>\n",
       "      <td>Full-time</td>\n",
       "      <td>False</td>\n",
       "      <td>Mexico</td>\n",
       "      <td>2023-01-14 13:18:07</td>\n",
       "      <td>False</td>\n",
       "      <td>False</td>\n",
       "      <td>Mexico</td>\n",
       "      <td>None</td>\n",
       "      <td>NaN</td>\n",
       "      <td>NaN</td>\n",
       "      <td>Hewlett Packard Enterprise</td>\n",
       "      <td>[r, python, sql, nosql, power bi, tableau]</td>\n",
       "      <td>{'analyst_tools': ['power bi', 'tableau'], 'pr...</td>\n",
       "      <td>Mexico</td>\n",
       "      <td>North America</td>\n",
       "    </tr>\n",
       "    <tr>\n",
       "      <th>2</th>\n",
       "      <td>Data Engineer</td>\n",
       "      <td>Data Engineer/Scientist/Analyst, Mid or Senior...</td>\n",
       "      <td>Berlin, Germany</td>\n",
       "      <td>via LinkedIn</td>\n",
       "      <td>Full-time</td>\n",
       "      <td>False</td>\n",
       "      <td>Germany</td>\n",
       "      <td>2023-10-10 13:14:55</td>\n",
       "      <td>False</td>\n",
       "      <td>False</td>\n",
       "      <td>Germany</td>\n",
       "      <td>None</td>\n",
       "      <td>NaN</td>\n",
       "      <td>NaN</td>\n",
       "      <td>ALPHA Augmented Services</td>\n",
       "      <td>[python, sql, c#, azure, airflow, dax, docker,...</td>\n",
       "      <td>{'analyst_tools': ['dax'], 'cloud': ['azure'],...</td>\n",
       "      <td>Germany</td>\n",
       "      <td>Europe</td>\n",
       "    </tr>\n",
       "  </tbody>\n",
       "</table>\n",
       "</div>"
      ],
      "text/plain": [
       "        job_title_short                                          job_title  \\\n",
       "0  Senior Data Engineer  Senior Clinical Data Engineer / Principal Clin...   \n",
       "1          Data Analyst                                       Data Analyst   \n",
       "2         Data Engineer  Data Engineer/Scientist/Analyst, Mid or Senior...   \n",
       "\n",
       "                   job_location           job_via job_schedule_type  \\\n",
       "0                 Watertown, CT   via Work Nearby         Full-time   \n",
       "1  Guadalajara, Jalisco, Mexico  via BeBee México         Full-time   \n",
       "2               Berlin, Germany      via LinkedIn         Full-time   \n",
       "\n",
       "   job_work_from_home       search_location     job_posted_date  \\\n",
       "0               False  Texas, United States 2023-06-16 13:44:15   \n",
       "1               False                Mexico 2023-01-14 13:18:07   \n",
       "2               False               Germany 2023-10-10 13:14:55   \n",
       "\n",
       "   job_no_degree_mention  job_health_insurance    job_country salary_rate  \\\n",
       "0                  False                 False  United States        None   \n",
       "1                  False                 False         Mexico        None   \n",
       "2                  False                 False        Germany        None   \n",
       "\n",
       "   salary_year_avg  salary_hour_avg                company_name  \\\n",
       "0              NaN              NaN        Boehringer Ingelheim   \n",
       "1              NaN              NaN  Hewlett Packard Enterprise   \n",
       "2              NaN              NaN    ALPHA Augmented Services   \n",
       "\n",
       "                                          job_skills  \\\n",
       "0                                               None   \n",
       "1         [r, python, sql, nosql, power bi, tableau]   \n",
       "2  [python, sql, c#, azure, airflow, dax, docker,...   \n",
       "\n",
       "                                     job_type_skills        Country  \\\n",
       "0                                               None  United States   \n",
       "1  {'analyst_tools': ['power bi', 'tableau'], 'pr...         Mexico   \n",
       "2  {'analyst_tools': ['dax'], 'cloud': ['azure'],...        Germany   \n",
       "\n",
       "       continent  \n",
       "0  North America  \n",
       "1  North America  \n",
       "2         Europe  "
      ]
     },
     "execution_count": 8,
     "metadata": {},
     "output_type": "execute_result"
    }
   ],
   "source": [
    "df_merged = df.merge(df_country, how='left',left_on='job_country',right_on='Country')\n",
    "df_merged.head(3)"
   ]
  },
  {
   "cell_type": "markdown",
   "metadata": {},
   "source": [
    "#### Salary Distribution by Job Title"
   ]
  },
  {
   "cell_type": "code",
   "execution_count": 18,
   "metadata": {},
   "outputs": [
    {
     "name": "stdout",
     "output_type": "stream",
     "text": [
      "<class 'pandas.core.frame.DataFrame'>\n",
      "Int64Index: 22003 entries, 28 to 785692\n",
      "Data columns (total 19 columns):\n",
      " #   Column                 Non-Null Count  Dtype         \n",
      "---  ------                 --------------  -----         \n",
      " 0   job_title_short        22003 non-null  object        \n",
      " 1   job_title              22003 non-null  object        \n",
      " 2   job_location           21723 non-null  object        \n",
      " 3   job_via                22003 non-null  object        \n",
      " 4   job_schedule_type      21987 non-null  object        \n",
      " 5   job_work_from_home     22003 non-null  bool          \n",
      " 6   search_location        22003 non-null  object        \n",
      " 7   job_posted_date        22003 non-null  datetime64[ns]\n",
      " 8   job_no_degree_mention  22003 non-null  bool          \n",
      " 9   job_health_insurance   22003 non-null  bool          \n",
      " 10  job_country            22003 non-null  object        \n",
      " 11  salary_rate            22003 non-null  object        \n",
      " 12  salary_year_avg        22003 non-null  float64       \n",
      " 13  salary_hour_avg        0 non-null      float64       \n",
      " 14  company_name           22003 non-null  object        \n",
      " 15  job_skills             20170 non-null  object        \n",
      " 16  job_type_skills        20170 non-null  object        \n",
      " 17  Country                22003 non-null  object        \n",
      " 18  continent              22003 non-null  object        \n",
      "dtypes: bool(3), datetime64[ns](1), float64(2), object(13)\n",
      "memory usage: 2.9+ MB\n"
     ]
    }
   ],
   "source": [
    "df_ml = df_merged[df_merged['salary_year_avg'].notna()]\n",
    "\n",
    "df_ml_africa = df_merged[(df_merged['continent'] == 'Africa') & (df_merged['salary_year_avg'].notna())]\n",
    "\n",
    "df_ml.info()"
   ]
  },
  {
   "cell_type": "code",
   "execution_count": 19,
   "metadata": {},
   "outputs": [
    {
     "data": {
      "text/plain": [
       "['Data Scientist',\n",
       " 'Data Engineer',\n",
       " 'Senior Data Scientist',\n",
       " 'Data Analyst',\n",
       " 'Senior Data Engineer',\n",
       " 'Business Analyst']"
      ]
     },
     "execution_count": 19,
     "metadata": {},
     "output_type": "execute_result"
    }
   ],
   "source": [
    "job_titles = df_ml['job_title_short'].value_counts().index[:6].tolist()\n",
    "\n",
    "# filter the df for the top 6 job titles\n",
    "df_ml_top6 = df_ml[df_ml['job_title_short'].isin(job_titles)]\n",
    "# order the job titles by median salary\n",
    "job_order = df_ml_top6.groupby('job_title_short')['salary_year_avg'].median().sort_values(ascending=False).index\n",
    "\n",
    "\n",
    "## Africa Dataset\n",
    "job_titles = df_ml_africa['job_title_short'].value_counts().index[:6].tolist()\n",
    "# filter the df for the top 6 job titles\n",
    "df_ml_africa_top6 = df_ml_africa[df_ml_africa['job_title_short'].isin(job_titles)]\n",
    "# order the job titles by median salary\n",
    "job_order = df_ml_africa_top6.groupby('job_title_short')['salary_year_avg'].median().sort_values(ascending=False).index\n",
    "\n",
    "\n",
    "job_titles"
   ]
  },
  {
   "cell_type": "markdown",
   "metadata": {},
   "source": [
    "#### Plot Salary Distributions"
   ]
  },
  {
   "cell_type": "code",
   "execution_count": 22,
   "metadata": {},
   "outputs": [
    {
     "data": {
      "image/png": "[encoded data removed]",
      "text/plain": [
       "<Figure size 864x360 with 1 Axes>"
      ]
     },
     "metadata": {},
     "output_type": "display_data"
    }
   ],
   "source": [
    "plt.figure(figsize=(12, 5))\n",
    "sns.boxplot(data=df_ml_top6, x='salary_year_avg', y='job_title_short', order=job_order)\n",
    "sns.set_theme(style='ticks')\n",
    "sns.despine()\n",
    "\n",
    "# this is all the same\n",
    "plt.title('Salary Distributions of Data Jobs')\n",
    "plt.xlabel('Yearly Salary (USD)')\n",
    "plt.ylabel('')\n",
    "plt.xlim(0, 600000) \n",
    "ticks_x = plt.FuncFormatter(lambda y, pos: f'${int(y/1000)}K')\n",
    "plt.gca().xaxis.set_major_formatter(ticks_x)\n",
    "plt.show()"
   ]
  },
  {
   "cell_type": "code",
   "execution_count": 23,
   "metadata": {},
   "outputs": [
    {
     "data": {
      "image/png": "[encoded data removed]",
      "text/plain": [
       "<Figure size 864x360 with 1 Axes>"
      ]
     },
     "metadata": {},
     "output_type": "display_data"
    }
   ],
   "source": [
    "#Africa:- Top 6 jobs in Salary Distribtuion\n",
    "plt.figure(figsize=(12, 5))\n",
    "sns.boxplot(data=df_ml_africa_top6, x='salary_year_avg', y='job_title_short', order=job_order)\n",
    "sns.set_theme(style='ticks')\n",
    "sns.despine()\n",
    "\n",
    "# this is all the same\n",
    "plt.title('Salary Distributions of Data Jobs in Africa')\n",
    "plt.xlabel('Yearly Salary (USD)')\n",
    "plt.ylabel('')\n",
    "plt.xlim(0, 600000) \n",
    "ticks_x = plt.FuncFormatter(lambda y, pos: f'${int(y/1000)}K')\n",
    "plt.gca().xaxis.set_major_formatter(ticks_x)\n",
    "plt.show()"
   ]
  },
  {
   "cell_type": "markdown",
   "metadata": {},
   "source": [
    "#### Investigate the Median Salary vs Skill for MLEs"
   ]
  },
  {
   "cell_type": "markdown",
   "metadata": {},
   "source": [
    "Filters the original dataset to only get rows where the job title is 'Machine Learning Engineer' and asl in the continent of 'Africa', to create a new DataFrame `df_ml`. Drop NaN values from the 'salary_year_avg' column. Then it uses the `explode` method on the `job_skills` column to create a new row in the DataFrame for each skill associated with a job. Finally, it displays the first five entries of the `salary_year_avg` and `job_skills` columns."
   ]
  },
  {
   "cell_type": "code",
   "execution_count": 25,
   "metadata": {},
   "outputs": [],
   "source": [
    "# Only get machine learning / data scientist jobs\n",
    "df_ml_ = df_ml[df_ml['job_title_short'].isin(['Data Scientist','Machine Learning Engineer'])].copy()\n",
    "\n",
    "# Drop NaN values from the 'salary_year_avg' column for accurate visualization\n",
    "df_ml_ = df_ml_.dropna(subset=['salary_year_avg'])\n",
    "df_ml_ = df_ml_.explode('job_skills')\n",
    "\n",
    "\n",
    "\n",
    "# Only get machine learning / data scientist jobs in Africa\n",
    "df_ml_africa_ = df_ml_africa[df_ml_africa['job_title_short'].isin(['Data Scientist','Machine Learning Engineer'])].copy()\n",
    "# Drop NaN values from the 'salary_year_avg' column for accurate visualization\n",
    "df_ml_africa_ = df_ml_africa_.dropna(subset=['salary_year_avg'])\n",
    "df_ml_africa_ = df_ml_africa_.explode('job_skills')"
   ]
  },
  {
   "cell_type": "code",
   "execution_count": 28,
   "metadata": {},
   "outputs": [
    {
     "data": {
      "text/html": [
       "<div>\n",
       "<style scoped>\n",
       "    .dataframe tbody tr th:only-of-type {\n",
       "        vertical-align: middle;\n",
       "    }\n",
       "\n",
       "    .dataframe tbody tr th {\n",
       "        vertical-align: top;\n",
       "    }\n",
       "\n",
       "    .dataframe thead th {\n",
       "        text-align: right;\n",
       "    }\n",
       "</style>\n",
       "<table border=\"1\" class=\"dataframe\">\n",
       "  <thead>\n",
       "    <tr style=\"text-align: right;\">\n",
       "      <th></th>\n",
       "      <th>salary_year_avg</th>\n",
       "      <th>job_skills</th>\n",
       "      <th>continent</th>\n",
       "    </tr>\n",
       "  </thead>\n",
       "  <tbody>\n",
       "    <tr>\n",
       "      <th>28</th>\n",
       "      <td>109500.0</td>\n",
       "      <td>gdpr</td>\n",
       "      <td>North America</td>\n",
       "    </tr>\n",
       "    <tr>\n",
       "      <th>28</th>\n",
       "      <td>109500.0</td>\n",
       "      <td>excel</td>\n",
       "      <td>North America</td>\n",
       "    </tr>\n",
       "    <tr>\n",
       "      <th>100</th>\n",
       "      <td>228222.0</td>\n",
       "      <td>sql</td>\n",
       "      <td>North America</td>\n",
       "    </tr>\n",
       "    <tr>\n",
       "      <th>100</th>\n",
       "      <td>228222.0</td>\n",
       "      <td>r</td>\n",
       "      <td>North America</td>\n",
       "    </tr>\n",
       "    <tr>\n",
       "      <th>100</th>\n",
       "      <td>228222.0</td>\n",
       "      <td>python</td>\n",
       "      <td>North America</td>\n",
       "    </tr>\n",
       "  </tbody>\n",
       "</table>\n",
       "</div>"
      ],
      "text/plain": [
       "     salary_year_avg job_skills      continent\n",
       "28          109500.0       gdpr  North America\n",
       "28          109500.0      excel  North America\n",
       "100         228222.0        sql  North America\n",
       "100         228222.0          r  North America\n",
       "100         228222.0     python  North America"
      ]
     },
     "execution_count": 28,
     "metadata": {},
     "output_type": "execute_result"
    }
   ],
   "source": [
    "df_ml_[['salary_year_avg', 'job_skills','continent']].head(5)"
   ]
  },
  {
   "cell_type": "code",
   "execution_count": 30,
   "metadata": {},
   "outputs": [
    {
     "data": {
      "text/html": [
       "<div>\n",
       "<style scoped>\n",
       "    .dataframe tbody tr th:only-of-type {\n",
       "        vertical-align: middle;\n",
       "    }\n",
       "\n",
       "    .dataframe tbody tr th {\n",
       "        vertical-align: top;\n",
       "    }\n",
       "\n",
       "    .dataframe thead th {\n",
       "        text-align: right;\n",
       "    }\n",
       "</style>\n",
       "<table border=\"1\" class=\"dataframe\">\n",
       "  <thead>\n",
       "    <tr style=\"text-align: right;\">\n",
       "      <th></th>\n",
       "      <th>salary_year_avg</th>\n",
       "      <th>job_skills</th>\n",
       "      <th>continent</th>\n",
       "    </tr>\n",
       "  </thead>\n",
       "  <tbody>\n",
       "    <tr>\n",
       "      <th>5862</th>\n",
       "      <td>325000.0</td>\n",
       "      <td>python</td>\n",
       "      <td>Africa</td>\n",
       "    </tr>\n",
       "    <tr>\n",
       "      <th>5862</th>\n",
       "      <td>325000.0</td>\n",
       "      <td>java</td>\n",
       "      <td>Africa</td>\n",
       "    </tr>\n",
       "    <tr>\n",
       "      <th>5862</th>\n",
       "      <td>325000.0</td>\n",
       "      <td>sql</td>\n",
       "      <td>Africa</td>\n",
       "    </tr>\n",
       "    <tr>\n",
       "      <th>5862</th>\n",
       "      <td>325000.0</td>\n",
       "      <td>aws</td>\n",
       "      <td>Africa</td>\n",
       "    </tr>\n",
       "    <tr>\n",
       "      <th>5862</th>\n",
       "      <td>325000.0</td>\n",
       "      <td>gcp</td>\n",
       "      <td>Africa</td>\n",
       "    </tr>\n",
       "  </tbody>\n",
       "</table>\n",
       "</div>"
      ],
      "text/plain": [
       "      salary_year_avg job_skills continent\n",
       "5862         325000.0     python    Africa\n",
       "5862         325000.0       java    Africa\n",
       "5862         325000.0        sql    Africa\n",
       "5862         325000.0        aws    Africa\n",
       "5862         325000.0        gcp    Africa"
      ]
     },
     "execution_count": 30,
     "metadata": {},
     "output_type": "execute_result"
    }
   ],
   "source": [
    "df_ml_africa_[['salary_year_avg', 'job_skills','continent']].head(5)"
   ]
  },
  {
   "cell_type": "markdown",
   "metadata": {},
   "source": [
    "#### Determine The Highest Paid Skills and Most Demanded Skills"
   ]
  },
  {
   "cell_type": "markdown",
   "metadata": {},
   "source": [
    "Gets the top ten highest-paying skills for Machine Learning Engineers by calculating the median salary for each skill listed in the `df_ml_`. It groups the data by job skills, computes the median salary, sorts these values in descending order by median, and then selects the top 10. This is then formatted into a new DataFrame (`df_ml_top_pay`) with a reset index and a renamed salary column labeled 'median_salary'. We shall do the same for the Africa dataset as well."
   ]
  },
  {
   "cell_type": "code",
   "execution_count": 31,
   "metadata": {},
   "outputs": [
    {
     "data": {
      "text/html": [
       "<div>\n",
       "<style scoped>\n",
       "    .dataframe tbody tr th:only-of-type {\n",
       "        vertical-align: middle;\n",
       "    }\n",
       "\n",
       "    .dataframe tbody tr th {\n",
       "        vertical-align: top;\n",
       "    }\n",
       "\n",
       "    .dataframe thead th {\n",
       "        text-align: right;\n",
       "    }\n",
       "</style>\n",
       "<table border=\"1\" class=\"dataframe\">\n",
       "  <thead>\n",
       "    <tr style=\"text-align: right;\">\n",
       "      <th></th>\n",
       "      <th>count</th>\n",
       "      <th>median</th>\n",
       "    </tr>\n",
       "    <tr>\n",
       "      <th>job_skills</th>\n",
       "      <th></th>\n",
       "      <th></th>\n",
       "    </tr>\n",
       "  </thead>\n",
       "  <tbody>\n",
       "    <tr>\n",
       "      <th>neo4j</th>\n",
       "      <td>1</td>\n",
       "      <td>250000.0</td>\n",
       "    </tr>\n",
       "    <tr>\n",
       "      <th>datarobot</th>\n",
       "      <td>2</td>\n",
       "      <td>235975.0</td>\n",
       "    </tr>\n",
       "    <tr>\n",
       "      <th>gdpr</th>\n",
       "      <td>2</td>\n",
       "      <td>216250.0</td>\n",
       "    </tr>\n",
       "    <tr>\n",
       "      <th>airtable</th>\n",
       "      <td>1</td>\n",
       "      <td>215500.0</td>\n",
       "    </tr>\n",
       "    <tr>\n",
       "      <th>watson</th>\n",
       "      <td>2</td>\n",
       "      <td>212500.0</td>\n",
       "    </tr>\n",
       "    <tr>\n",
       "      <th>ruby</th>\n",
       "      <td>6</td>\n",
       "      <td>199000.0</td>\n",
       "    </tr>\n",
       "    <tr>\n",
       "      <th>codecommit</th>\n",
       "      <td>1</td>\n",
       "      <td>191900.0</td>\n",
       "    </tr>\n",
       "    <tr>\n",
       "      <th>terraform</th>\n",
       "      <td>2</td>\n",
       "      <td>182500.0</td>\n",
       "    </tr>\n",
       "    <tr>\n",
       "      <th>node</th>\n",
       "      <td>1</td>\n",
       "      <td>180000.0</td>\n",
       "    </tr>\n",
       "    <tr>\n",
       "      <th>selenium</th>\n",
       "      <td>1</td>\n",
       "      <td>180000.0</td>\n",
       "    </tr>\n",
       "  </tbody>\n",
       "</table>\n",
       "</div>"
      ],
      "text/plain": [
       "            count    median\n",
       "job_skills                 \n",
       "neo4j           1  250000.0\n",
       "datarobot       2  235975.0\n",
       "gdpr            2  216250.0\n",
       "airtable        1  215500.0\n",
       "watson          2  212500.0\n",
       "ruby            6  199000.0\n",
       "codecommit      1  191900.0\n",
       "terraform       2  182500.0\n",
       "node            1  180000.0\n",
       "selenium        1  180000.0"
      ]
     },
     "execution_count": 31,
     "metadata": {},
     "output_type": "execute_result"
    }
   ],
   "source": [
    "df_ml_top_pay = df_ml_.groupby('job_skills')['salary_year_avg'].agg(['count', 'median']).sort_values(by='median', ascending=False)\n",
    "df_ml_top_pay = df_ml_top_pay.head(10)\n",
    "\n",
    "#Africa df\n",
    "df_ml_africa_top_pay = df_ml_africa_.groupby('job_skills')['salary_year_avg'].agg(['count', 'median']).sort_values(by='median', ascending=False)\n",
    "df_ml_africa_top_pay = df_ml_africa_top_pay.head(10)\n",
    "\n",
    "df_ml_africa_top_pay"
   ]
  },
  {
   "cell_type": "markdown",
   "metadata": {},
   "source": [
    "Calculates the count and median salary for each skill in `df_ml_`. It groups the data by `job_skills`, aggregates it to find the count and median salary for each skill, and then sorts the results by count in descending order by count. It re-sorts this subset by median salary in descending order."
   ]
  },
  {
   "cell_type": "code",
   "execution_count": 33,
   "metadata": {},
   "outputs": [
    {
     "data": {
      "text/html": [
       "<div>\n",
       "<style scoped>\n",
       "    .dataframe tbody tr th:only-of-type {\n",
       "        vertical-align: middle;\n",
       "    }\n",
       "\n",
       "    .dataframe tbody tr th {\n",
       "        vertical-align: top;\n",
       "    }\n",
       "\n",
       "    .dataframe thead th {\n",
       "        text-align: right;\n",
       "    }\n",
       "</style>\n",
       "<table border=\"1\" class=\"dataframe\">\n",
       "  <thead>\n",
       "    <tr style=\"text-align: right;\">\n",
       "      <th></th>\n",
       "      <th>count</th>\n",
       "      <th>median</th>\n",
       "    </tr>\n",
       "    <tr>\n",
       "      <th>job_skills</th>\n",
       "      <th></th>\n",
       "      <th></th>\n",
       "    </tr>\n",
       "  </thead>\n",
       "  <tbody>\n",
       "    <tr>\n",
       "      <th>pytorch</th>\n",
       "      <td>752</td>\n",
       "      <td>145000.0</td>\n",
       "    </tr>\n",
       "    <tr>\n",
       "      <th>tensorflow</th>\n",
       "      <td>834</td>\n",
       "      <td>140000.0</td>\n",
       "    </tr>\n",
       "    <tr>\n",
       "      <th>spark</th>\n",
       "      <td>1058</td>\n",
       "      <td>135959.5</td>\n",
       "    </tr>\n",
       "    <tr>\n",
       "      <th>sql</th>\n",
       "      <td>3260</td>\n",
       "      <td>132500.0</td>\n",
       "    </tr>\n",
       "    <tr>\n",
       "      <th>aws</th>\n",
       "      <td>1196</td>\n",
       "      <td>131655.0</td>\n",
       "    </tr>\n",
       "  </tbody>\n",
       "</table>\n",
       "</div>"
      ],
      "text/plain": [
       "            count    median\n",
       "job_skills                 \n",
       "pytorch       752  145000.0\n",
       "tensorflow    834  140000.0\n",
       "spark        1058  135959.5\n",
       "sql          3260  132500.0\n",
       "aws          1196  131655.0"
      ]
     },
     "execution_count": 33,
     "metadata": {},
     "output_type": "execute_result"
    }
   ],
   "source": [
    "df_ml_skills = df_ml_.groupby('job_skills')['salary_year_avg'].agg(['count', 'median']).sort_values(by='count', ascending=False)\n",
    "df_ml_skills = df_ml_skills.head(10).sort_values(by='median', ascending=False)\n",
    "\n",
    "#Africa df\n",
    "df_ml_africa_skills = df_ml_africa_.groupby('job_skills')['salary_year_avg'].agg(['count', 'median']).sort_values(by='count', ascending=False)\n",
    "df_ml_africa_skills = df_ml_africa_skills.head(10).sort_values(by='median', ascending=False)\n",
    "\n",
    "df_ml_skills.head()"
   ]
  },
  {
   "cell_type": "code",
   "execution_count": 41,
   "metadata": {},
   "outputs": [
    {
     "data": {
      "image/png": "[encoded data removed]",
      "text/plain": [
       "<Figure size 864x576 with 2 Axes>"
      ]
     },
     "metadata": {},
     "output_type": "display_data"
    }
   ],
   "source": [
    "fig, ax = plt.subplots(2, 1,figsize=(12, 8))  \n",
    "\n",
    "# Top 10 Highest Paid Skills for MLEs\n",
    "sns.barplot(data=df_ml_top_pay, x='median', y=df_ml_top_pay.index, ax=ax[0], palette='dark:b_r')\n",
    "ax[0].set_title('Highest Paid Skills for Machine Learning Engineers', fontsize=15)\n",
    "ax[0].set_ylabel('')\n",
    "ax[0].set_xlabel('')\n",
    "ax[0].xaxis.set_major_formatter(plt.FuncFormatter(lambda x, _: f'${int(x/1000)}K'))\n",
    "\n",
    "\n",
    "# Top 10 Most In-Demand Skills for MLEs' \n",
    "sns.barplot(data=df_ml_skills, x='median', y=df_ml_skills.index, ax=ax[1], palette='light:b')\n",
    "ax[1].set_title('Most In-Demand Skills for Machine Learning Engineers', fontsize=15)\n",
    "ax[1].set_ylabel('')\n",
    "ax[1].set_xlabel('Median Salary (USD)')\n",
    "ax[1].set_xlim(ax[0].get_xlim())  # Set the same x-axis limits as the first plot\n",
    "ax[1].xaxis.set_major_formatter(plt.FuncFormatter(lambda x, _: f'${int(x/1000)}K'))\n",
    "\n",
    "sns.set_theme(style='ticks')\n",
    "plt.tight_layout()\n",
    "plt.show();"
   ]
  },
  {
   "cell_type": "markdown",
   "metadata": {},
   "source": [
    "##### Skills for Africa Market"
   ]
  },
  {
   "cell_type": "code",
   "execution_count": 42,
   "metadata": {},
   "outputs": [
    {
     "data": {
      "image/png": "[encoded data removed]",
      "text/plain": [
       "<Figure size 864x576 with 2 Axes>"
      ]
     },
     "metadata": {},
     "output_type": "display_data"
    }
   ],
   "source": [
    "fig, ax = plt.subplots(2, 1,figsize=(12, 8))  \n",
    "\n",
    "# Top 10 Highest Paid Skills for MLEs\n",
    "sns.barplot(data=df_ml_africa_top_pay, x='median', y=df_ml_africa_top_pay.index, ax=ax[0], palette='dark:b_r')\n",
    "ax[0].set_title('Highest Paid Skills for Machine Learning Engineers in Africa', fontsize=15)\n",
    "ax[0].set_ylabel('')\n",
    "ax[0].set_xlabel('')\n",
    "ax[0].xaxis.set_major_formatter(plt.FuncFormatter(lambda x, _: f'${int(x/1000)}K'))\n",
    "\n",
    "\n",
    "# Top 10 Most In-Demand Skills for MLEs' \n",
    "sns.barplot(data=df_ml_africa_skills, x='median', y=df_ml_africa_skills.index, ax=ax[1], palette='light:b')\n",
    "ax[1].set_title('Most In-Demand Skills for Machine Learning Engineers in the Africa', fontsize=15)\n",
    "ax[1].set_ylabel('')\n",
    "ax[1].set_xlabel('Median Salary (USD)')\n",
    "ax[1].set_xlim(ax[0].get_xlim())  # Set the same x-axis limits as the first plot\n",
    "ax[1].xaxis.set_major_formatter(plt.FuncFormatter(lambda x, _: f'${int(x/1000)}K'))\n",
    "\n",
    "sns.set_theme(style='ticks')\n",
    "plt.tight_layout()\n",
    "plt.show();"
   ]
  },
  {
   "cell_type": "code",
   "execution_count": null,
   "metadata": {},
   "outputs": [],
   "source": []
  }
 ],
 "metadata": {
  "kernelspec": {
   "display_name": "Python 3.9.12 ('base')",
   "language": "python",
   "name": "python3"
  },
  "language_info": {
   "codemirror_mode": {
    "name": "ipython",
    "version": 3
   },
   "file_extension": ".py",
   "mimetype": "text/x-python",
   "name": "python",
   "nbconvert_exporter": "python",
   "pygments_lexer": "ipython3",
   "version": "3.9.12"
  },
  "orig_nbformat": 4,
  "vscode": {
   "interpreter": {
    "hash": "ad2bdc8ecc057115af97d19610ffacc2b4e99fae6737bb82f5d7fb13d2f2c186"
   }
  }
 },
 "nbformat": 4,
 "nbformat_minor": 2
}
